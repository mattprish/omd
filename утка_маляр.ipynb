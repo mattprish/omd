{
 "cells": [
  {
   "cell_type": "code",
   "execution_count": 7,
   "id": "64f8ecbb",
   "metadata": {},
   "outputs": [
    {
     "name": "stdout",
     "output_type": "stream",
     "text": [
      "Утка-маляр 🦆 решила выпить зайти в бар. Взять ей зонтик? ☂️\n",
      "Выберите: да/нет\n",
      "нет\n",
      "Заходит утка-маляр 🦆 в бар, а там армяне в нарды играют\n"
     ]
    }
   ],
   "source": [
    "def step1():\n",
    "    print(\n",
    "        'Утка-маляр 🦆 решила выпить зайти в бар. '\n",
    "        'Взять ей зонтик? ☂️'\n",
    "    )\n",
    "    option = ''\n",
    "    options = {'да': True, 'нет': False}\n",
    "    while option not in options:\n",
    "        print('Выберите: {}/{}'.format(*options))\n",
    "        option = input()\n",
    "    \n",
    "    if options[option]:\n",
    "        return step2_umbrella()\n",
    "    return step2_no_umbrella()\n",
    "\n",
    "if __name__ == '__main__':\n",
    "    step1()"
   ]
  },
  {
   "cell_type": "code",
   "execution_count": 3,
   "id": "18378416",
   "metadata": {},
   "outputs": [],
   "source": [
    "def step2_umbrella():\n",
    "    print('Взяла утка-маляр зонтик ☂️, а он ей как раз')"
   ]
  },
  {
   "cell_type": "code",
   "execution_count": 6,
   "id": "0ba6d182",
   "metadata": {},
   "outputs": [],
   "source": [
    "def step2_no_umbrella():\n",
    "    print('Заходит утка-маляр 🦆 в бар, а там армяне в нарды играют')"
   ]
  }
 ],
 "metadata": {
  "kernelspec": {
   "display_name": "Python 3 (ipykernel)",
   "language": "python",
   "name": "python3"
  },
  "language_info": {
   "codemirror_mode": {
    "name": "ipython",
    "version": 3
   },
   "file_extension": ".py",
   "mimetype": "text/x-python",
   "name": "python",
   "nbconvert_exporter": "python",
   "pygments_lexer": "ipython3",
   "version": "3.9.12"
  }
 },
 "nbformat": 4,
 "nbformat_minor": 5
}
